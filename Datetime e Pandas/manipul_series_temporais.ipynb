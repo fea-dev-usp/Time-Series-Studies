{
 "cells": [
  {
   "cell_type": "code",
   "execution_count": 2,
   "source": [
    "import datetime\n",
    "\n",
    "dt = datetime.date(year=2020, month=12 , day=14)\n",
    "dt2 = datetime.time(hour= 7, minute= 30 , second=15)\n",
    "dt3 = datetime.datetime(year=2020, month=12 , day=14,hour= 7, minute= 30 , second=15 )"
   ],
   "outputs": [],
   "metadata": {}
  },
  {
   "cell_type": "code",
   "execution_count": null,
   "source": [],
   "outputs": [],
   "metadata": {}
  },
  {
   "cell_type": "code",
   "execution_count": 3,
   "source": [
    "print(dt)\n",
    "print(dt2)\n",
    "print(dt3)"
   ],
   "outputs": [
    {
     "output_type": "stream",
     "name": "stdout",
     "text": [
      "2020-12-14\n",
      "07:30:15\n",
      "2020-12-14 07:30:15\n"
     ]
    }
   ],
   "metadata": {}
  },
  {
   "cell_type": "code",
   "execution_count": 4,
   "source": [
    "print(dt.day)\n",
    "print(dt.month)\n",
    "print(dt.year)\n",
    "\n",
    "\n",
    "print(dt2.hour)\n",
    "print(dt2.minute)\n",
    "print(dt2.second)"
   ],
   "outputs": [
    {
     "output_type": "stream",
     "name": "stdout",
     "text": [
      "14\n",
      "12\n",
      "2020\n",
      "7\n",
      "30\n",
      "15\n"
     ]
    }
   ],
   "metadata": {}
  },
  {
   "cell_type": "code",
   "execution_count": 5,
   "source": [
    "hoje = datetime.date.today() # retorna o dia de hoje\n",
    "agora = datetime.datetime.now() # retorna o dia e horario de agora\n",
    "\n",
    "print(hoje)\n",
    "print(agora)\n",
    "print(hoje.day) #retorna um atributo do objeto instanciado\n"
   ],
   "outputs": [
    {
     "output_type": "stream",
     "name": "stdout",
     "text": [
      "2021-09-26\n",
      "2021-09-26 20:51:54.634199\n",
      "26\n"
     ]
    }
   ],
   "metadata": {}
  },
  {
   "cell_type": "code",
   "execution_count": 6,
   "source": [
    "data_str = \"2021-08-16\"  # YYYY-MM-DD (representação ISO861)\n",
    "\n",
    "# Para obter um objeto datetime.date a partir da formatação ISO861, basta:\n",
    "print(datetime.date.fromisoformat(data_str))\n",
    "# a função strptime retorna uma data dependendo do formato\n",
    "data_str2 = \"08-16-2021 14:45:37\"\n",
    "formato = \"%m-%d-%Y %H:%M:%S\"\n",
    "print(datetime.datetime.strptime(data_str2, formato))\n",
    "\n",
    "data_str3 = \"16/08/06\"\n",
    "formato2 = \"%d/%m/%y\"\n",
    "print(datetime.datetime.strptime(data_str3, formato2))"
   ],
   "outputs": [
    {
     "output_type": "stream",
     "name": "stdout",
     "text": [
      "2021-08-16\n",
      "2021-08-16 14:45:37\n",
      "2006-08-16 00:00:00\n"
     ]
    }
   ],
   "metadata": {}
  },
  {
   "cell_type": "code",
   "execution_count": 7,
   "source": [
    "dt4 = datetime.datetime(2020,3,15)\n",
    "string = str(dt4)\n",
    "print(string)\n",
    "print(type(string))"
   ],
   "outputs": [
    {
     "output_type": "stream",
     "name": "stdout",
     "text": [
      "2020-03-15 00:00:00\n",
      "<class 'str'>\n"
     ]
    }
   ],
   "metadata": {}
  },
  {
   "cell_type": "code",
   "execution_count": 8,
   "source": [
    "import pandas as pd"
   ],
   "outputs": [],
   "metadata": {}
  },
  {
   "cell_type": "code",
   "execution_count": 9,
   "source": [
    "data = pd.Timestamp(datetime.datetime(2021,1,1))\n",
    "data2 = pd.Timestamp('2021-01-01')\n",
    "print(data, data2)\n",
    "print(data == data2)\n"
   ],
   "outputs": [
    {
     "output_type": "stream",
     "name": "stdout",
     "text": [
      "2021-01-01 00:00:00 2021-01-01 00:00:00\n",
      "True\n"
     ]
    }
   ],
   "metadata": {}
  },
  {
   "cell_type": "code",
   "execution_count": 10,
   "source": [
    "print(data.year)\n",
    "print(data.month)\n",
    "print(data.day)\n",
    "print(data.dayofweek)\n",
    "print(data.month_name())\n",
    "print(data.day_name())"
   ],
   "outputs": [
    {
     "output_type": "stream",
     "name": "stdout",
     "text": [
      "2021\n",
      "1\n",
      "1\n",
      "4\n",
      "January\n",
      "Friday\n"
     ]
    }
   ],
   "metadata": {}
  },
  {
   "cell_type": "code",
   "execution_count": 11,
   "source": [
    "data3 = pd.Period('2021-03')\n",
    "print(data3)\n",
    "print(data3.freq) # obtemos qual é a frequência do objeto\n",
    "print(data3.asfreq(\"D\")) # asfreq converte a frequência\n",
    "print(data3.asfreq(\"Y\")) # asfreq converte a frequência"
   ],
   "outputs": [
    {
     "output_type": "stream",
     "name": "stdout",
     "text": [
      "2021-03\n",
      "<MonthEnd>\n",
      "2021-03-31\n",
      "2021\n"
     ]
    }
   ],
   "metadata": {}
  },
  {
   "cell_type": "code",
   "execution_count": 12,
   "source": [
    "seq_datas = pd.date_range('2021-01', periods=12, freq='M') # freq mensal\n",
    "print(seq_datas)\n",
    "seq_datas2 = pd.date_range('2021-01',periods=60, freq='D' ) #freq diária\n",
    "print(seq_datas2)\n",
    "seq_datas3= pd.date_range(start='2021-01',end='2021-03') #freq diária é o padrão quando não é explicitada \n",
    "print(seq_datas3)\n",
    "seq_datas4= pd.date_range(end='2021-03', periods=60) #podemos só definir o fim e o número de períodos\n",
    "print(seq_datas4)"
   ],
   "outputs": [
    {
     "output_type": "stream",
     "name": "stdout",
     "text": [
      "DatetimeIndex(['2021-01-31', '2021-02-28', '2021-03-31', '2021-04-30',\n",
      "               '2021-05-31', '2021-06-30', '2021-07-31', '2021-08-31',\n",
      "               '2021-09-30', '2021-10-31', '2021-11-30', '2021-12-31'],\n",
      "              dtype='datetime64[ns]', freq='M')\n",
      "DatetimeIndex(['2021-01-01', '2021-01-02', '2021-01-03', '2021-01-04',\n",
      "               '2021-01-05', '2021-01-06', '2021-01-07', '2021-01-08',\n",
      "               '2021-01-09', '2021-01-10', '2021-01-11', '2021-01-12',\n",
      "               '2021-01-13', '2021-01-14', '2021-01-15', '2021-01-16',\n",
      "               '2021-01-17', '2021-01-18', '2021-01-19', '2021-01-20',\n",
      "               '2021-01-21', '2021-01-22', '2021-01-23', '2021-01-24',\n",
      "               '2021-01-25', '2021-01-26', '2021-01-27', '2021-01-28',\n",
      "               '2021-01-29', '2021-01-30', '2021-01-31', '2021-02-01',\n",
      "               '2021-02-02', '2021-02-03', '2021-02-04', '2021-02-05',\n",
      "               '2021-02-06', '2021-02-07', '2021-02-08', '2021-02-09',\n",
      "               '2021-02-10', '2021-02-11', '2021-02-12', '2021-02-13',\n",
      "               '2021-02-14', '2021-02-15', '2021-02-16', '2021-02-17',\n",
      "               '2021-02-18', '2021-02-19', '2021-02-20', '2021-02-21',\n",
      "               '2021-02-22', '2021-02-23', '2021-02-24', '2021-02-25',\n",
      "               '2021-02-26', '2021-02-27', '2021-02-28', '2021-03-01'],\n",
      "              dtype='datetime64[ns]', freq='D')\n",
      "DatetimeIndex(['2021-01-01', '2021-01-02', '2021-01-03', '2021-01-04',\n",
      "               '2021-01-05', '2021-01-06', '2021-01-07', '2021-01-08',\n",
      "               '2021-01-09', '2021-01-10', '2021-01-11', '2021-01-12',\n",
      "               '2021-01-13', '2021-01-14', '2021-01-15', '2021-01-16',\n",
      "               '2021-01-17', '2021-01-18', '2021-01-19', '2021-01-20',\n",
      "               '2021-01-21', '2021-01-22', '2021-01-23', '2021-01-24',\n",
      "               '2021-01-25', '2021-01-26', '2021-01-27', '2021-01-28',\n",
      "               '2021-01-29', '2021-01-30', '2021-01-31', '2021-02-01',\n",
      "               '2021-02-02', '2021-02-03', '2021-02-04', '2021-02-05',\n",
      "               '2021-02-06', '2021-02-07', '2021-02-08', '2021-02-09',\n",
      "               '2021-02-10', '2021-02-11', '2021-02-12', '2021-02-13',\n",
      "               '2021-02-14', '2021-02-15', '2021-02-16', '2021-02-17',\n",
      "               '2021-02-18', '2021-02-19', '2021-02-20', '2021-02-21',\n",
      "               '2021-02-22', '2021-02-23', '2021-02-24', '2021-02-25',\n",
      "               '2021-02-26', '2021-02-27', '2021-02-28', '2021-03-01'],\n",
      "              dtype='datetime64[ns]', freq='D')\n",
      "DatetimeIndex(['2021-01-01', '2021-01-02', '2021-01-03', '2021-01-04',\n",
      "               '2021-01-05', '2021-01-06', '2021-01-07', '2021-01-08',\n",
      "               '2021-01-09', '2021-01-10', '2021-01-11', '2021-01-12',\n",
      "               '2021-01-13', '2021-01-14', '2021-01-15', '2021-01-16',\n",
      "               '2021-01-17', '2021-01-18', '2021-01-19', '2021-01-20',\n",
      "               '2021-01-21', '2021-01-22', '2021-01-23', '2021-01-24',\n",
      "               '2021-01-25', '2021-01-26', '2021-01-27', '2021-01-28',\n",
      "               '2021-01-29', '2021-01-30', '2021-01-31', '2021-02-01',\n",
      "               '2021-02-02', '2021-02-03', '2021-02-04', '2021-02-05',\n",
      "               '2021-02-06', '2021-02-07', '2021-02-08', '2021-02-09',\n",
      "               '2021-02-10', '2021-02-11', '2021-02-12', '2021-02-13',\n",
      "               '2021-02-14', '2021-02-15', '2021-02-16', '2021-02-17',\n",
      "               '2021-02-18', '2021-02-19', '2021-02-20', '2021-02-21',\n",
      "               '2021-02-22', '2021-02-23', '2021-02-24', '2021-02-25',\n",
      "               '2021-02-26', '2021-02-27', '2021-02-28', '2021-03-01'],\n",
      "              dtype='datetime64[ns]', freq='D')\n"
     ]
    }
   ],
   "metadata": {}
  },
  {
   "cell_type": "code",
   "execution_count": 13,
   "source": [
    "seq_datas[0]"
   ],
   "outputs": [
    {
     "output_type": "execute_result",
     "data": {
      "text/plain": [
       "Timestamp('2021-01-31 00:00:00', freq='M')"
      ]
     },
     "metadata": {},
     "execution_count": 13
    }
   ],
   "metadata": {}
  },
  {
   "cell_type": "markdown",
   "source": [
    "----"
   ],
   "metadata": {}
  },
  {
   "cell_type": "markdown",
   "source": [
    "# Série Temporal: preços de fechamento ajustado PETR4"
   ],
   "metadata": {}
  },
  {
   "cell_type": "code",
   "execution_count": 14,
   "source": [
    "petr4 =pd.read_csv('PETR4.csv')"
   ],
   "outputs": [],
   "metadata": {}
  },
  {
   "cell_type": "code",
   "execution_count": 15,
   "source": [
    "petr4.head()"
   ],
   "outputs": [
    {
     "output_type": "execute_result",
     "data": {
      "text/plain": [
       "         data   PETR4\n",
       "0  2015-01-02  7.9297\n",
       "1  2015-01-05  7.2943\n",
       "2  2015-01-06  7.0571\n",
       "3  2015-01-07  7.3451\n",
       "4  2015-01-08  7.7772"
      ],
      "text/html": [
       "<div>\n",
       "<style scoped>\n",
       "    .dataframe tbody tr th:only-of-type {\n",
       "        vertical-align: middle;\n",
       "    }\n",
       "\n",
       "    .dataframe tbody tr th {\n",
       "        vertical-align: top;\n",
       "    }\n",
       "\n",
       "    .dataframe thead th {\n",
       "        text-align: right;\n",
       "    }\n",
       "</style>\n",
       "<table border=\"1\" class=\"dataframe\">\n",
       "  <thead>\n",
       "    <tr style=\"text-align: right;\">\n",
       "      <th></th>\n",
       "      <th>data</th>\n",
       "      <th>PETR4</th>\n",
       "    </tr>\n",
       "  </thead>\n",
       "  <tbody>\n",
       "    <tr>\n",
       "      <th>0</th>\n",
       "      <td>2015-01-02</td>\n",
       "      <td>7.9297</td>\n",
       "    </tr>\n",
       "    <tr>\n",
       "      <th>1</th>\n",
       "      <td>2015-01-05</td>\n",
       "      <td>7.2943</td>\n",
       "    </tr>\n",
       "    <tr>\n",
       "      <th>2</th>\n",
       "      <td>2015-01-06</td>\n",
       "      <td>7.0571</td>\n",
       "    </tr>\n",
       "    <tr>\n",
       "      <th>3</th>\n",
       "      <td>2015-01-07</td>\n",
       "      <td>7.3451</td>\n",
       "    </tr>\n",
       "    <tr>\n",
       "      <th>4</th>\n",
       "      <td>2015-01-08</td>\n",
       "      <td>7.7772</td>\n",
       "    </tr>\n",
       "  </tbody>\n",
       "</table>\n",
       "</div>"
      ]
     },
     "metadata": {},
     "execution_count": 15
    }
   ],
   "metadata": {}
  },
  {
   "cell_type": "code",
   "execution_count": 16,
   "source": [
    "petr4.info()"
   ],
   "outputs": [
    {
     "output_type": "stream",
     "name": "stdout",
     "text": [
      "<class 'pandas.core.frame.DataFrame'>\n",
      "RangeIndex: 1638 entries, 0 to 1637\n",
      "Data columns (total 2 columns):\n",
      " #   Column  Non-Null Count  Dtype  \n",
      "---  ------  --------------  -----  \n",
      " 0   data    1638 non-null   object \n",
      " 1   PETR4   1638 non-null   float64\n",
      "dtypes: float64(1), object(1)\n",
      "memory usage: 25.7+ KB\n"
     ]
    }
   ],
   "metadata": {}
  },
  {
   "cell_type": "code",
   "execution_count": 17,
   "source": [
    "petr4['data'] = pd.to_datetime(petr4['data'])"
   ],
   "outputs": [],
   "metadata": {}
  },
  {
   "cell_type": "code",
   "execution_count": 18,
   "source": [
    "print(petr4.info())"
   ],
   "outputs": [
    {
     "output_type": "stream",
     "name": "stdout",
     "text": [
      "<class 'pandas.core.frame.DataFrame'>\n",
      "RangeIndex: 1638 entries, 0 to 1637\n",
      "Data columns (total 2 columns):\n",
      " #   Column  Non-Null Count  Dtype         \n",
      "---  ------  --------------  -----         \n",
      " 0   data    1638 non-null   datetime64[ns]\n",
      " 1   PETR4   1638 non-null   float64       \n",
      "dtypes: datetime64[ns](1), float64(1)\n",
      "memory usage: 25.7 KB\n",
      "None\n"
     ]
    }
   ],
   "metadata": {}
  },
  {
   "cell_type": "code",
   "execution_count": 19,
   "source": [
    "petr4.set_index('data',inplace=True)"
   ],
   "outputs": [],
   "metadata": {}
  },
  {
   "cell_type": "code",
   "execution_count": 21,
   "source": [
    "print(petr4['2015']) # seleciona apenas os dados de 2015"
   ],
   "outputs": [
    {
     "output_type": "stream",
     "name": "stdout",
     "text": [
      "             PETR4\n",
      "data              \n",
      "2015-01-02  7.9297\n",
      "2015-01-05  7.2943\n",
      "2015-01-06  7.0571\n",
      "2015-01-07  7.3451\n",
      "2015-01-08  7.7772\n",
      "...            ...\n",
      "2015-12-22  5.7524\n",
      "2015-12-23  5.8710\n",
      "2015-12-28  5.6762\n",
      "2015-12-29  5.6677\n",
      "2015-12-30  5.6762\n",
      "\n",
      "[246 rows x 1 columns]\n"
     ]
    },
    {
     "output_type": "stream",
     "name": "stderr",
     "text": [
      "<ipython-input-21-b2aca8f3671c>:1: FutureWarning: Indexing a DataFrame with a datetimelike index using a single string to slice the rows, like `frame[string]`, is deprecated and will be removed in a future version. Use `frame.loc[string]` instead.\n",
      "  print(petr4['2015']) # seleciona apenas os dados de 2015\n"
     ]
    }
   ],
   "metadata": {}
  },
  {
   "cell_type": "code",
   "execution_count": 22,
   "source": [
    "print(petr4['2015':'2017'])  # seleciona apenas os dados de 2015 a 2017"
   ],
   "outputs": [
    {
     "output_type": "stream",
     "name": "stdout",
     "text": [
      "              PETR4\n",
      "data               \n",
      "2015-01-02   7.9297\n",
      "2015-01-05   7.2943\n",
      "2015-01-06   7.0571\n",
      "2015-01-07   7.3451\n",
      "2015-01-08   7.7772\n",
      "...             ...\n",
      "2017-12-21  13.4364\n",
      "2017-12-22  13.3432\n",
      "2017-12-26  13.5296\n",
      "2017-12-27  13.5974\n",
      "2017-12-28  13.6397\n",
      "\n",
      "[739 rows x 1 columns]\n"
     ]
    }
   ],
   "metadata": {}
  },
  {
   "cell_type": "code",
   "execution_count": 23,
   "source": [
    "print(petr4['2015-06':'2015-08'])  # seleciona apenas os dados de junho a agosto de 2015"
   ],
   "outputs": [
    {
     "output_type": "stream",
     "name": "stdout",
     "text": [
      "              PETR4\n",
      "data               \n",
      "2015-06-01  10.4797\n",
      "2015-06-02  10.8779\n",
      "2015-06-03  10.8694\n",
      "2015-06-05  10.6407\n",
      "2015-06-08  10.6491\n",
      "...             ...\n",
      "2015-08-25   6.6928\n",
      "2015-08-26   6.8707\n",
      "2015-08-27   7.5315\n",
      "2015-08-28   7.6247\n",
      "2015-08-31   7.7856\n",
      "\n",
      "[64 rows x 1 columns]\n"
     ]
    }
   ],
   "metadata": {}
  },
  {
   "cell_type": "code",
   "execution_count": 26,
   "source": [
    "print(petr4['2015-06-01':'2015-07-20'])  # seleciona apenas os dados do dia 01 de junho a 20 de julho  de 2015"
   ],
   "outputs": [
    {
     "output_type": "stream",
     "name": "stdout",
     "text": [
      "              PETR4\n",
      "data               \n",
      "2015-06-01  10.4797\n",
      "2015-06-02  10.8779\n",
      "2015-06-03  10.8694\n",
      "2015-06-05  10.6407\n",
      "2015-06-08  10.6491\n",
      "2015-06-09  10.9880\n",
      "2015-06-10  11.0558\n",
      "2015-06-11  11.0558\n",
      "2015-06-12  11.0304\n",
      "2015-06-15  11.0050\n",
      "2015-06-16  11.3099\n",
      "2015-06-17  11.1744\n",
      "2015-06-18  11.3862\n",
      "2015-06-19  11.1575\n",
      "2015-06-22  11.1829\n",
      "2015-06-23  10.9880\n",
      "2015-06-24  11.1829\n",
      "2015-06-25  10.6746\n",
      "2015-06-26  11.1913\n",
      "2015-06-29  10.8016\n",
      "2015-06-30  10.7677\n",
      "2015-07-01  10.3187\n",
      "2015-07-02  10.4204\n",
      "2015-07-03   9.9375\n",
      "2015-07-06   9.7257\n",
      "2015-07-07   9.9799\n",
      "2015-07-08   9.7850\n",
      "2015-07-10   9.9883\n",
      "2015-07-13  10.0138\n",
      "2015-07-14  10.1662\n",
      "2015-07-15   9.9968\n",
      "2015-07-16  10.0985\n",
      "2015-07-17   9.6579\n",
      "2015-07-20   9.1411\n"
     ]
    }
   ],
   "metadata": {}
  },
  {
   "cell_type": "code",
   "execution_count": 28,
   "source": [
    "petr4.loc['2015']"
   ],
   "outputs": [
    {
     "output_type": "execute_result",
     "data": {
      "text/plain": [
       "             PETR4\n",
       "data              \n",
       "2015-01-02  7.9297\n",
       "2015-01-05  7.2943\n",
       "2015-01-06  7.0571\n",
       "2015-01-07  7.3451\n",
       "2015-01-08  7.7772\n",
       "...            ...\n",
       "2015-12-22  5.7524\n",
       "2015-12-23  5.8710\n",
       "2015-12-28  5.6762\n",
       "2015-12-29  5.6677\n",
       "2015-12-30  5.6762\n",
       "\n",
       "[246 rows x 1 columns]"
      ],
      "text/html": [
       "<div>\n",
       "<style scoped>\n",
       "    .dataframe tbody tr th:only-of-type {\n",
       "        vertical-align: middle;\n",
       "    }\n",
       "\n",
       "    .dataframe tbody tr th {\n",
       "        vertical-align: top;\n",
       "    }\n",
       "\n",
       "    .dataframe thead th {\n",
       "        text-align: right;\n",
       "    }\n",
       "</style>\n",
       "<table border=\"1\" class=\"dataframe\">\n",
       "  <thead>\n",
       "    <tr style=\"text-align: right;\">\n",
       "      <th></th>\n",
       "      <th>PETR4</th>\n",
       "    </tr>\n",
       "    <tr>\n",
       "      <th>data</th>\n",
       "      <th></th>\n",
       "    </tr>\n",
       "  </thead>\n",
       "  <tbody>\n",
       "    <tr>\n",
       "      <th>2015-01-02</th>\n",
       "      <td>7.9297</td>\n",
       "    </tr>\n",
       "    <tr>\n",
       "      <th>2015-01-05</th>\n",
       "      <td>7.2943</td>\n",
       "    </tr>\n",
       "    <tr>\n",
       "      <th>2015-01-06</th>\n",
       "      <td>7.0571</td>\n",
       "    </tr>\n",
       "    <tr>\n",
       "      <th>2015-01-07</th>\n",
       "      <td>7.3451</td>\n",
       "    </tr>\n",
       "    <tr>\n",
       "      <th>2015-01-08</th>\n",
       "      <td>7.7772</td>\n",
       "    </tr>\n",
       "    <tr>\n",
       "      <th>...</th>\n",
       "      <td>...</td>\n",
       "    </tr>\n",
       "    <tr>\n",
       "      <th>2015-12-22</th>\n",
       "      <td>5.7524</td>\n",
       "    </tr>\n",
       "    <tr>\n",
       "      <th>2015-12-23</th>\n",
       "      <td>5.8710</td>\n",
       "    </tr>\n",
       "    <tr>\n",
       "      <th>2015-12-28</th>\n",
       "      <td>5.6762</td>\n",
       "    </tr>\n",
       "    <tr>\n",
       "      <th>2015-12-29</th>\n",
       "      <td>5.6677</td>\n",
       "    </tr>\n",
       "    <tr>\n",
       "      <th>2015-12-30</th>\n",
       "      <td>5.6762</td>\n",
       "    </tr>\n",
       "  </tbody>\n",
       "</table>\n",
       "<p>246 rows × 1 columns</p>\n",
       "</div>"
      ]
     },
     "metadata": {},
     "execution_count": 28
    }
   ],
   "metadata": {}
  },
  {
   "cell_type": "code",
   "execution_count": 30,
   "source": [
    "petr4.pct_change()"
   ],
   "outputs": [
    {
     "output_type": "execute_result",
     "data": {
      "text/plain": [
       "               PETR4\n",
       "data                \n",
       "2015-01-02       NaN\n",
       "2015-01-05 -0.080129\n",
       "2015-01-06 -0.032519\n",
       "2015-01-07  0.040810\n",
       "2015-01-08  0.058828\n",
       "...              ...\n",
       "2021-08-13  0.008593\n",
       "2021-08-16 -0.024191\n",
       "2021-08-17 -0.000004\n",
       "2021-08-18 -0.008879\n",
       "2021-08-19 -0.005599\n",
       "\n",
       "[1638 rows x 1 columns]"
      ],
      "text/html": [
       "<div>\n",
       "<style scoped>\n",
       "    .dataframe tbody tr th:only-of-type {\n",
       "        vertical-align: middle;\n",
       "    }\n",
       "\n",
       "    .dataframe tbody tr th {\n",
       "        vertical-align: top;\n",
       "    }\n",
       "\n",
       "    .dataframe thead th {\n",
       "        text-align: right;\n",
       "    }\n",
       "</style>\n",
       "<table border=\"1\" class=\"dataframe\">\n",
       "  <thead>\n",
       "    <tr style=\"text-align: right;\">\n",
       "      <th></th>\n",
       "      <th>PETR4</th>\n",
       "    </tr>\n",
       "    <tr>\n",
       "      <th>data</th>\n",
       "      <th></th>\n",
       "    </tr>\n",
       "  </thead>\n",
       "  <tbody>\n",
       "    <tr>\n",
       "      <th>2015-01-02</th>\n",
       "      <td>NaN</td>\n",
       "    </tr>\n",
       "    <tr>\n",
       "      <th>2015-01-05</th>\n",
       "      <td>-0.080129</td>\n",
       "    </tr>\n",
       "    <tr>\n",
       "      <th>2015-01-06</th>\n",
       "      <td>-0.032519</td>\n",
       "    </tr>\n",
       "    <tr>\n",
       "      <th>2015-01-07</th>\n",
       "      <td>0.040810</td>\n",
       "    </tr>\n",
       "    <tr>\n",
       "      <th>2015-01-08</th>\n",
       "      <td>0.058828</td>\n",
       "    </tr>\n",
       "    <tr>\n",
       "      <th>...</th>\n",
       "      <td>...</td>\n",
       "    </tr>\n",
       "    <tr>\n",
       "      <th>2021-08-13</th>\n",
       "      <td>0.008593</td>\n",
       "    </tr>\n",
       "    <tr>\n",
       "      <th>2021-08-16</th>\n",
       "      <td>-0.024191</td>\n",
       "    </tr>\n",
       "    <tr>\n",
       "      <th>2021-08-17</th>\n",
       "      <td>-0.000004</td>\n",
       "    </tr>\n",
       "    <tr>\n",
       "      <th>2021-08-18</th>\n",
       "      <td>-0.008879</td>\n",
       "    </tr>\n",
       "    <tr>\n",
       "      <th>2021-08-19</th>\n",
       "      <td>-0.005599</td>\n",
       "    </tr>\n",
       "  </tbody>\n",
       "</table>\n",
       "<p>1638 rows × 1 columns</p>\n",
       "</div>"
      ]
     },
     "metadata": {},
     "execution_count": 30
    }
   ],
   "metadata": {}
  },
  {
   "cell_type": "code",
   "execution_count": 31,
   "source": [
    "petr4.pct_change(10) #retorno de 10 dias"
   ],
   "outputs": [
    {
     "output_type": "execute_result",
     "data": {
      "text/plain": [
       "               PETR4\n",
       "data                \n",
       "2015-01-02       NaN\n",
       "2015-01-05       NaN\n",
       "2015-01-06       NaN\n",
       "2015-01-07       NaN\n",
       "2015-01-08       NaN\n",
       "...              ...\n",
       "2021-08-13  0.090675\n",
       "2021-08-16  0.084440\n",
       "2021-08-17  0.066664\n",
       "2021-08-18  0.080120\n",
       "2021-08-19 -0.004350\n",
       "\n",
       "[1638 rows x 1 columns]"
      ],
      "text/html": [
       "<div>\n",
       "<style scoped>\n",
       "    .dataframe tbody tr th:only-of-type {\n",
       "        vertical-align: middle;\n",
       "    }\n",
       "\n",
       "    .dataframe tbody tr th {\n",
       "        vertical-align: top;\n",
       "    }\n",
       "\n",
       "    .dataframe thead th {\n",
       "        text-align: right;\n",
       "    }\n",
       "</style>\n",
       "<table border=\"1\" class=\"dataframe\">\n",
       "  <thead>\n",
       "    <tr style=\"text-align: right;\">\n",
       "      <th></th>\n",
       "      <th>PETR4</th>\n",
       "    </tr>\n",
       "    <tr>\n",
       "      <th>data</th>\n",
       "      <th></th>\n",
       "    </tr>\n",
       "  </thead>\n",
       "  <tbody>\n",
       "    <tr>\n",
       "      <th>2015-01-02</th>\n",
       "      <td>NaN</td>\n",
       "    </tr>\n",
       "    <tr>\n",
       "      <th>2015-01-05</th>\n",
       "      <td>NaN</td>\n",
       "    </tr>\n",
       "    <tr>\n",
       "      <th>2015-01-06</th>\n",
       "      <td>NaN</td>\n",
       "    </tr>\n",
       "    <tr>\n",
       "      <th>2015-01-07</th>\n",
       "      <td>NaN</td>\n",
       "    </tr>\n",
       "    <tr>\n",
       "      <th>2015-01-08</th>\n",
       "      <td>NaN</td>\n",
       "    </tr>\n",
       "    <tr>\n",
       "      <th>...</th>\n",
       "      <td>...</td>\n",
       "    </tr>\n",
       "    <tr>\n",
       "      <th>2021-08-13</th>\n",
       "      <td>0.090675</td>\n",
       "    </tr>\n",
       "    <tr>\n",
       "      <th>2021-08-16</th>\n",
       "      <td>0.084440</td>\n",
       "    </tr>\n",
       "    <tr>\n",
       "      <th>2021-08-17</th>\n",
       "      <td>0.066664</td>\n",
       "    </tr>\n",
       "    <tr>\n",
       "      <th>2021-08-18</th>\n",
       "      <td>0.080120</td>\n",
       "    </tr>\n",
       "    <tr>\n",
       "      <th>2021-08-19</th>\n",
       "      <td>-0.004350</td>\n",
       "    </tr>\n",
       "  </tbody>\n",
       "</table>\n",
       "<p>1638 rows × 1 columns</p>\n",
       "</div>"
      ]
     },
     "metadata": {},
     "execution_count": 31
    }
   ],
   "metadata": {}
  },
  {
   "cell_type": "code",
   "execution_count": 32,
   "source": [
    "petr4.diff()"
   ],
   "outputs": [
    {
     "output_type": "execute_result",
     "data": {
      "text/plain": [
       "             PETR4\n",
       "data              \n",
       "2015-01-02     NaN\n",
       "2015-01-05 -0.6354\n",
       "2015-01-06 -0.2372\n",
       "2015-01-07  0.2880\n",
       "2015-01-08  0.4321\n",
       "...            ...\n",
       "2021-08-13  0.2360\n",
       "2021-08-16 -0.6701\n",
       "2021-08-17 -0.0001\n",
       "2021-08-18 -0.2400\n",
       "2021-08-19 -0.1500\n",
       "\n",
       "[1638 rows x 1 columns]"
      ],
      "text/html": [
       "<div>\n",
       "<style scoped>\n",
       "    .dataframe tbody tr th:only-of-type {\n",
       "        vertical-align: middle;\n",
       "    }\n",
       "\n",
       "    .dataframe tbody tr th {\n",
       "        vertical-align: top;\n",
       "    }\n",
       "\n",
       "    .dataframe thead th {\n",
       "        text-align: right;\n",
       "    }\n",
       "</style>\n",
       "<table border=\"1\" class=\"dataframe\">\n",
       "  <thead>\n",
       "    <tr style=\"text-align: right;\">\n",
       "      <th></th>\n",
       "      <th>PETR4</th>\n",
       "    </tr>\n",
       "    <tr>\n",
       "      <th>data</th>\n",
       "      <th></th>\n",
       "    </tr>\n",
       "  </thead>\n",
       "  <tbody>\n",
       "    <tr>\n",
       "      <th>2015-01-02</th>\n",
       "      <td>NaN</td>\n",
       "    </tr>\n",
       "    <tr>\n",
       "      <th>2015-01-05</th>\n",
       "      <td>-0.6354</td>\n",
       "    </tr>\n",
       "    <tr>\n",
       "      <th>2015-01-06</th>\n",
       "      <td>-0.2372</td>\n",
       "    </tr>\n",
       "    <tr>\n",
       "      <th>2015-01-07</th>\n",
       "      <td>0.2880</td>\n",
       "    </tr>\n",
       "    <tr>\n",
       "      <th>2015-01-08</th>\n",
       "      <td>0.4321</td>\n",
       "    </tr>\n",
       "    <tr>\n",
       "      <th>...</th>\n",
       "      <td>...</td>\n",
       "    </tr>\n",
       "    <tr>\n",
       "      <th>2021-08-13</th>\n",
       "      <td>0.2360</td>\n",
       "    </tr>\n",
       "    <tr>\n",
       "      <th>2021-08-16</th>\n",
       "      <td>-0.6701</td>\n",
       "    </tr>\n",
       "    <tr>\n",
       "      <th>2021-08-17</th>\n",
       "      <td>-0.0001</td>\n",
       "    </tr>\n",
       "    <tr>\n",
       "      <th>2021-08-18</th>\n",
       "      <td>-0.2400</td>\n",
       "    </tr>\n",
       "    <tr>\n",
       "      <th>2021-08-19</th>\n",
       "      <td>-0.1500</td>\n",
       "    </tr>\n",
       "  </tbody>\n",
       "</table>\n",
       "<p>1638 rows × 1 columns</p>\n",
       "</div>"
      ]
     },
     "metadata": {},
     "execution_count": 32
    }
   ],
   "metadata": {}
  },
  {
   "cell_type": "code",
   "execution_count": 33,
   "source": [
    "petr4.diff(3)"
   ],
   "outputs": [
    {
     "output_type": "execute_result",
     "data": {
      "text/plain": [
       "             PETR4\n",
       "data              \n",
       "2015-01-02     NaN\n",
       "2015-01-05     NaN\n",
       "2015-01-06     NaN\n",
       "2015-01-07 -0.5846\n",
       "2015-01-08  0.4829\n",
       "...            ...\n",
       "2021-08-13  1.0099\n",
       "2021-08-16 -0.0283\n",
       "2021-08-17 -0.4342\n",
       "2021-08-18 -0.9102\n",
       "2021-08-19 -0.3901\n",
       "\n",
       "[1638 rows x 1 columns]"
      ],
      "text/html": [
       "<div>\n",
       "<style scoped>\n",
       "    .dataframe tbody tr th:only-of-type {\n",
       "        vertical-align: middle;\n",
       "    }\n",
       "\n",
       "    .dataframe tbody tr th {\n",
       "        vertical-align: top;\n",
       "    }\n",
       "\n",
       "    .dataframe thead th {\n",
       "        text-align: right;\n",
       "    }\n",
       "</style>\n",
       "<table border=\"1\" class=\"dataframe\">\n",
       "  <thead>\n",
       "    <tr style=\"text-align: right;\">\n",
       "      <th></th>\n",
       "      <th>PETR4</th>\n",
       "    </tr>\n",
       "    <tr>\n",
       "      <th>data</th>\n",
       "      <th></th>\n",
       "    </tr>\n",
       "  </thead>\n",
       "  <tbody>\n",
       "    <tr>\n",
       "      <th>2015-01-02</th>\n",
       "      <td>NaN</td>\n",
       "    </tr>\n",
       "    <tr>\n",
       "      <th>2015-01-05</th>\n",
       "      <td>NaN</td>\n",
       "    </tr>\n",
       "    <tr>\n",
       "      <th>2015-01-06</th>\n",
       "      <td>NaN</td>\n",
       "    </tr>\n",
       "    <tr>\n",
       "      <th>2015-01-07</th>\n",
       "      <td>-0.5846</td>\n",
       "    </tr>\n",
       "    <tr>\n",
       "      <th>2015-01-08</th>\n",
       "      <td>0.4829</td>\n",
       "    </tr>\n",
       "    <tr>\n",
       "      <th>...</th>\n",
       "      <td>...</td>\n",
       "    </tr>\n",
       "    <tr>\n",
       "      <th>2021-08-13</th>\n",
       "      <td>1.0099</td>\n",
       "    </tr>\n",
       "    <tr>\n",
       "      <th>2021-08-16</th>\n",
       "      <td>-0.0283</td>\n",
       "    </tr>\n",
       "    <tr>\n",
       "      <th>2021-08-17</th>\n",
       "      <td>-0.4342</td>\n",
       "    </tr>\n",
       "    <tr>\n",
       "      <th>2021-08-18</th>\n",
       "      <td>-0.9102</td>\n",
       "    </tr>\n",
       "    <tr>\n",
       "      <th>2021-08-19</th>\n",
       "      <td>-0.3901</td>\n",
       "    </tr>\n",
       "  </tbody>\n",
       "</table>\n",
       "<p>1638 rows × 1 columns</p>\n",
       "</div>"
      ]
     },
     "metadata": {},
     "execution_count": 33
    }
   ],
   "metadata": {}
  },
  {
   "cell_type": "code",
   "execution_count": 35,
   "source": [
    "petr4.rolling(window=30).mean() #média móvel de 30 dias"
   ],
   "outputs": [
    {
     "output_type": "execute_result",
     "data": {
      "text/plain": [
       "                PETR4\n",
       "data                 \n",
       "2015-01-02        NaN\n",
       "2015-01-05        NaN\n",
       "2015-01-06        NaN\n",
       "2015-01-07        NaN\n",
       "2015-01-08        NaN\n",
       "...               ...\n",
       "2021-08-13  26.068993\n",
       "2021-08-16  26.052007\n",
       "2021-08-17  26.045397\n",
       "2021-08-18  26.067910\n",
       "2021-08-19  26.073467\n",
       "\n",
       "[1638 rows x 1 columns]"
      ],
      "text/html": [
       "<div>\n",
       "<style scoped>\n",
       "    .dataframe tbody tr th:only-of-type {\n",
       "        vertical-align: middle;\n",
       "    }\n",
       "\n",
       "    .dataframe tbody tr th {\n",
       "        vertical-align: top;\n",
       "    }\n",
       "\n",
       "    .dataframe thead th {\n",
       "        text-align: right;\n",
       "    }\n",
       "</style>\n",
       "<table border=\"1\" class=\"dataframe\">\n",
       "  <thead>\n",
       "    <tr style=\"text-align: right;\">\n",
       "      <th></th>\n",
       "      <th>PETR4</th>\n",
       "    </tr>\n",
       "    <tr>\n",
       "      <th>data</th>\n",
       "      <th></th>\n",
       "    </tr>\n",
       "  </thead>\n",
       "  <tbody>\n",
       "    <tr>\n",
       "      <th>2015-01-02</th>\n",
       "      <td>NaN</td>\n",
       "    </tr>\n",
       "    <tr>\n",
       "      <th>2015-01-05</th>\n",
       "      <td>NaN</td>\n",
       "    </tr>\n",
       "    <tr>\n",
       "      <th>2015-01-06</th>\n",
       "      <td>NaN</td>\n",
       "    </tr>\n",
       "    <tr>\n",
       "      <th>2015-01-07</th>\n",
       "      <td>NaN</td>\n",
       "    </tr>\n",
       "    <tr>\n",
       "      <th>2015-01-08</th>\n",
       "      <td>NaN</td>\n",
       "    </tr>\n",
       "    <tr>\n",
       "      <th>...</th>\n",
       "      <td>...</td>\n",
       "    </tr>\n",
       "    <tr>\n",
       "      <th>2021-08-13</th>\n",
       "      <td>26.068993</td>\n",
       "    </tr>\n",
       "    <tr>\n",
       "      <th>2021-08-16</th>\n",
       "      <td>26.052007</td>\n",
       "    </tr>\n",
       "    <tr>\n",
       "      <th>2021-08-17</th>\n",
       "      <td>26.045397</td>\n",
       "    </tr>\n",
       "    <tr>\n",
       "      <th>2021-08-18</th>\n",
       "      <td>26.067910</td>\n",
       "    </tr>\n",
       "    <tr>\n",
       "      <th>2021-08-19</th>\n",
       "      <td>26.073467</td>\n",
       "    </tr>\n",
       "  </tbody>\n",
       "</table>\n",
       "<p>1638 rows × 1 columns</p>\n",
       "</div>"
      ]
     },
     "metadata": {},
     "execution_count": 35
    }
   ],
   "metadata": {}
  },
  {
   "cell_type": "code",
   "execution_count": 43,
   "source": [
    "petr4.rolling(window=30).std() # desv. padr móvel de 30 dias"
   ],
   "outputs": [
    {
     "output_type": "execute_result",
     "data": {
      "text/plain": [
       "               PETR4\n",
       "data                \n",
       "2015-01-02       NaN\n",
       "2015-01-05       NaN\n",
       "2015-01-06       NaN\n",
       "2015-01-07       NaN\n",
       "2015-01-08       NaN\n",
       "...              ...\n",
       "2021-08-13  0.839203\n",
       "2021-08-16  0.813161\n",
       "2021-08-17  0.804024\n",
       "2021-08-18  0.815404\n",
       "2021-08-19  0.818823\n",
       "\n",
       "[1638 rows x 1 columns]"
      ],
      "text/html": [
       "<div>\n",
       "<style scoped>\n",
       "    .dataframe tbody tr th:only-of-type {\n",
       "        vertical-align: middle;\n",
       "    }\n",
       "\n",
       "    .dataframe tbody tr th {\n",
       "        vertical-align: top;\n",
       "    }\n",
       "\n",
       "    .dataframe thead th {\n",
       "        text-align: right;\n",
       "    }\n",
       "</style>\n",
       "<table border=\"1\" class=\"dataframe\">\n",
       "  <thead>\n",
       "    <tr style=\"text-align: right;\">\n",
       "      <th></th>\n",
       "      <th>PETR4</th>\n",
       "    </tr>\n",
       "    <tr>\n",
       "      <th>data</th>\n",
       "      <th></th>\n",
       "    </tr>\n",
       "  </thead>\n",
       "  <tbody>\n",
       "    <tr>\n",
       "      <th>2015-01-02</th>\n",
       "      <td>NaN</td>\n",
       "    </tr>\n",
       "    <tr>\n",
       "      <th>2015-01-05</th>\n",
       "      <td>NaN</td>\n",
       "    </tr>\n",
       "    <tr>\n",
       "      <th>2015-01-06</th>\n",
       "      <td>NaN</td>\n",
       "    </tr>\n",
       "    <tr>\n",
       "      <th>2015-01-07</th>\n",
       "      <td>NaN</td>\n",
       "    </tr>\n",
       "    <tr>\n",
       "      <th>2015-01-08</th>\n",
       "      <td>NaN</td>\n",
       "    </tr>\n",
       "    <tr>\n",
       "      <th>...</th>\n",
       "      <td>...</td>\n",
       "    </tr>\n",
       "    <tr>\n",
       "      <th>2021-08-13</th>\n",
       "      <td>0.839203</td>\n",
       "    </tr>\n",
       "    <tr>\n",
       "      <th>2021-08-16</th>\n",
       "      <td>0.813161</td>\n",
       "    </tr>\n",
       "    <tr>\n",
       "      <th>2021-08-17</th>\n",
       "      <td>0.804024</td>\n",
       "    </tr>\n",
       "    <tr>\n",
       "      <th>2021-08-18</th>\n",
       "      <td>0.815404</td>\n",
       "    </tr>\n",
       "    <tr>\n",
       "      <th>2021-08-19</th>\n",
       "      <td>0.818823</td>\n",
       "    </tr>\n",
       "  </tbody>\n",
       "</table>\n",
       "<p>1638 rows × 1 columns</p>\n",
       "</div>"
      ]
     },
     "metadata": {},
     "execution_count": 43
    }
   ],
   "metadata": {}
  },
  {
   "cell_type": "code",
   "execution_count": 46,
   "source": [
    "petr4.rolling(window=30).max() # máximo \"móvel\" de 30 dias"
   ],
   "outputs": [
    {
     "output_type": "execute_result",
     "data": {
      "text/plain": [
       "              PETR4\n",
       "data               \n",
       "2015-01-02      NaN\n",
       "2015-01-05      NaN\n",
       "2015-01-06      NaN\n",
       "2015-01-07      NaN\n",
       "2015-01-08      NaN\n",
       "...             ...\n",
       "2021-08-13  27.7002\n",
       "2021-08-16  27.7002\n",
       "2021-08-17  27.7002\n",
       "2021-08-18  27.7002\n",
       "2021-08-19  27.7002\n",
       "\n",
       "[1638 rows x 1 columns]"
      ],
      "text/html": [
       "<div>\n",
       "<style scoped>\n",
       "    .dataframe tbody tr th:only-of-type {\n",
       "        vertical-align: middle;\n",
       "    }\n",
       "\n",
       "    .dataframe tbody tr th {\n",
       "        vertical-align: top;\n",
       "    }\n",
       "\n",
       "    .dataframe thead th {\n",
       "        text-align: right;\n",
       "    }\n",
       "</style>\n",
       "<table border=\"1\" class=\"dataframe\">\n",
       "  <thead>\n",
       "    <tr style=\"text-align: right;\">\n",
       "      <th></th>\n",
       "      <th>PETR4</th>\n",
       "    </tr>\n",
       "    <tr>\n",
       "      <th>data</th>\n",
       "      <th></th>\n",
       "    </tr>\n",
       "  </thead>\n",
       "  <tbody>\n",
       "    <tr>\n",
       "      <th>2015-01-02</th>\n",
       "      <td>NaN</td>\n",
       "    </tr>\n",
       "    <tr>\n",
       "      <th>2015-01-05</th>\n",
       "      <td>NaN</td>\n",
       "    </tr>\n",
       "    <tr>\n",
       "      <th>2015-01-06</th>\n",
       "      <td>NaN</td>\n",
       "    </tr>\n",
       "    <tr>\n",
       "      <th>2015-01-07</th>\n",
       "      <td>NaN</td>\n",
       "    </tr>\n",
       "    <tr>\n",
       "      <th>2015-01-08</th>\n",
       "      <td>NaN</td>\n",
       "    </tr>\n",
       "    <tr>\n",
       "      <th>...</th>\n",
       "      <td>...</td>\n",
       "    </tr>\n",
       "    <tr>\n",
       "      <th>2021-08-13</th>\n",
       "      <td>27.7002</td>\n",
       "    </tr>\n",
       "    <tr>\n",
       "      <th>2021-08-16</th>\n",
       "      <td>27.7002</td>\n",
       "    </tr>\n",
       "    <tr>\n",
       "      <th>2021-08-17</th>\n",
       "      <td>27.7002</td>\n",
       "    </tr>\n",
       "    <tr>\n",
       "      <th>2021-08-18</th>\n",
       "      <td>27.7002</td>\n",
       "    </tr>\n",
       "    <tr>\n",
       "      <th>2021-08-19</th>\n",
       "      <td>27.7002</td>\n",
       "    </tr>\n",
       "  </tbody>\n",
       "</table>\n",
       "<p>1638 rows × 1 columns</p>\n",
       "</div>"
      ]
     },
     "metadata": {},
     "execution_count": 46
    }
   ],
   "metadata": {}
  },
  {
   "cell_type": "code",
   "execution_count": 47,
   "source": [
    "petr4.expanding().max() # máximo acumulado "
   ],
   "outputs": [
    {
     "output_type": "execute_result",
     "data": {
      "text/plain": [
       "              PETR4\n",
       "data               \n",
       "2015-01-02   7.9297\n",
       "2015-01-05   7.9297\n",
       "2015-01-06   7.9297\n",
       "2015-01-07   7.9297\n",
       "2015-01-08   7.9297\n",
       "...             ...\n",
       "2021-08-13  28.4144\n",
       "2021-08-16  28.4144\n",
       "2021-08-17  28.4144\n",
       "2021-08-18  28.4144\n",
       "2021-08-19  28.4144\n",
       "\n",
       "[1638 rows x 1 columns]"
      ],
      "text/html": [
       "<div>\n",
       "<style scoped>\n",
       "    .dataframe tbody tr th:only-of-type {\n",
       "        vertical-align: middle;\n",
       "    }\n",
       "\n",
       "    .dataframe tbody tr th {\n",
       "        vertical-align: top;\n",
       "    }\n",
       "\n",
       "    .dataframe thead th {\n",
       "        text-align: right;\n",
       "    }\n",
       "</style>\n",
       "<table border=\"1\" class=\"dataframe\">\n",
       "  <thead>\n",
       "    <tr style=\"text-align: right;\">\n",
       "      <th></th>\n",
       "      <th>PETR4</th>\n",
       "    </tr>\n",
       "    <tr>\n",
       "      <th>data</th>\n",
       "      <th></th>\n",
       "    </tr>\n",
       "  </thead>\n",
       "  <tbody>\n",
       "    <tr>\n",
       "      <th>2015-01-02</th>\n",
       "      <td>7.9297</td>\n",
       "    </tr>\n",
       "    <tr>\n",
       "      <th>2015-01-05</th>\n",
       "      <td>7.9297</td>\n",
       "    </tr>\n",
       "    <tr>\n",
       "      <th>2015-01-06</th>\n",
       "      <td>7.9297</td>\n",
       "    </tr>\n",
       "    <tr>\n",
       "      <th>2015-01-07</th>\n",
       "      <td>7.9297</td>\n",
       "    </tr>\n",
       "    <tr>\n",
       "      <th>2015-01-08</th>\n",
       "      <td>7.9297</td>\n",
       "    </tr>\n",
       "    <tr>\n",
       "      <th>...</th>\n",
       "      <td>...</td>\n",
       "    </tr>\n",
       "    <tr>\n",
       "      <th>2021-08-13</th>\n",
       "      <td>28.4144</td>\n",
       "    </tr>\n",
       "    <tr>\n",
       "      <th>2021-08-16</th>\n",
       "      <td>28.4144</td>\n",
       "    </tr>\n",
       "    <tr>\n",
       "      <th>2021-08-17</th>\n",
       "      <td>28.4144</td>\n",
       "    </tr>\n",
       "    <tr>\n",
       "      <th>2021-08-18</th>\n",
       "      <td>28.4144</td>\n",
       "    </tr>\n",
       "    <tr>\n",
       "      <th>2021-08-19</th>\n",
       "      <td>28.4144</td>\n",
       "    </tr>\n",
       "  </tbody>\n",
       "</table>\n",
       "<p>1638 rows × 1 columns</p>\n",
       "</div>"
      ]
     },
     "metadata": {},
     "execution_count": 47
    }
   ],
   "metadata": {}
  },
  {
   "cell_type": "code",
   "execution_count": 51,
   "source": [
    "petr4.cummax() # máximo acumulado "
   ],
   "outputs": [
    {
     "output_type": "execute_result",
     "data": {
      "text/plain": [
       "              PETR4\n",
       "data               \n",
       "2015-01-02   7.9297\n",
       "2015-01-05   7.9297\n",
       "2015-01-06   7.9297\n",
       "2015-01-07   7.9297\n",
       "2015-01-08   7.9297\n",
       "...             ...\n",
       "2021-08-13  28.4144\n",
       "2021-08-16  28.4144\n",
       "2021-08-17  28.4144\n",
       "2021-08-18  28.4144\n",
       "2021-08-19  28.4144\n",
       "\n",
       "[1638 rows x 1 columns]"
      ],
      "text/html": [
       "<div>\n",
       "<style scoped>\n",
       "    .dataframe tbody tr th:only-of-type {\n",
       "        vertical-align: middle;\n",
       "    }\n",
       "\n",
       "    .dataframe tbody tr th {\n",
       "        vertical-align: top;\n",
       "    }\n",
       "\n",
       "    .dataframe thead th {\n",
       "        text-align: right;\n",
       "    }\n",
       "</style>\n",
       "<table border=\"1\" class=\"dataframe\">\n",
       "  <thead>\n",
       "    <tr style=\"text-align: right;\">\n",
       "      <th></th>\n",
       "      <th>PETR4</th>\n",
       "    </tr>\n",
       "    <tr>\n",
       "      <th>data</th>\n",
       "      <th></th>\n",
       "    </tr>\n",
       "  </thead>\n",
       "  <tbody>\n",
       "    <tr>\n",
       "      <th>2015-01-02</th>\n",
       "      <td>7.9297</td>\n",
       "    </tr>\n",
       "    <tr>\n",
       "      <th>2015-01-05</th>\n",
       "      <td>7.9297</td>\n",
       "    </tr>\n",
       "    <tr>\n",
       "      <th>2015-01-06</th>\n",
       "      <td>7.9297</td>\n",
       "    </tr>\n",
       "    <tr>\n",
       "      <th>2015-01-07</th>\n",
       "      <td>7.9297</td>\n",
       "    </tr>\n",
       "    <tr>\n",
       "      <th>2015-01-08</th>\n",
       "      <td>7.9297</td>\n",
       "    </tr>\n",
       "    <tr>\n",
       "      <th>...</th>\n",
       "      <td>...</td>\n",
       "    </tr>\n",
       "    <tr>\n",
       "      <th>2021-08-13</th>\n",
       "      <td>28.4144</td>\n",
       "    </tr>\n",
       "    <tr>\n",
       "      <th>2021-08-16</th>\n",
       "      <td>28.4144</td>\n",
       "    </tr>\n",
       "    <tr>\n",
       "      <th>2021-08-17</th>\n",
       "      <td>28.4144</td>\n",
       "    </tr>\n",
       "    <tr>\n",
       "      <th>2021-08-18</th>\n",
       "      <td>28.4144</td>\n",
       "    </tr>\n",
       "    <tr>\n",
       "      <th>2021-08-19</th>\n",
       "      <td>28.4144</td>\n",
       "    </tr>\n",
       "  </tbody>\n",
       "</table>\n",
       "<p>1638 rows × 1 columns</p>\n",
       "</div>"
      ]
     },
     "metadata": {},
     "execution_count": 51
    }
   ],
   "metadata": {}
  },
  {
   "cell_type": "code",
   "execution_count": null,
   "source": [],
   "outputs": [],
   "metadata": {}
  }
 ],
 "metadata": {
  "orig_nbformat": 4,
  "language_info": {
   "name": "python",
   "version": "3.8.5",
   "mimetype": "text/x-python",
   "codemirror_mode": {
    "name": "ipython",
    "version": 3
   },
   "pygments_lexer": "ipython3",
   "nbconvert_exporter": "python",
   "file_extension": ".py"
  },
  "kernelspec": {
   "name": "python3",
   "display_name": "Python 3.8.5 64-bit ('base': conda)"
  },
  "interpreter": {
   "hash": "4b41f1d7901c245d236e028006d52e8373fd7c96b9ffb251bc24e32ccdfcdcfe"
  }
 },
 "nbformat": 4,
 "nbformat_minor": 2
}